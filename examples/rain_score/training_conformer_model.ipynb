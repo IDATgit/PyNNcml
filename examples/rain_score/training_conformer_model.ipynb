{
 "cells": [
  {
   "cell_type": "markdown",
   "source": [
    "# End-To-End Training Example of RNN for rain estimation and detection using PyNNCML\n",
    "This notebook presents an end-to-end example of training a Recurrent Neural Network (RNN) based rain estimation neural network [1] on the openMRG dataset.\n",
    "This tutorial is built using the PyNNCML software package, which provides both tools to simplify the training process of deep learning models for CMLs.\n",
    "We start with obtaining a subset of the OpenMRG dataset and splitting it into training and validation datasets.\n",
    "Afterward, we construct the One Step Network from [1], followed by the training loop.\n",
    "Finally, we analyze the model performance in terms of RMSE and Bias.\n",
    "\n",
    "\n",
    "Notebook structure\n",
    "1. Imports and Installation of PyNNCML\n",
    "2. Hyperparameter settings\n",
    "3. Build Dataset\n",
    "4. Build Neural Network\n",
    "5. Training Loop\n",
    "6. Neural Network Analysis\n",
    "\n",
    "\n",
    "[Run this notebook in colab](https://colab.research.google.com/github/haihabi/PyNNcml/blob/master/examples/training_rnn.ipynb)\n",
    "\n",
    "To run this notebook on Colab using GPU, please do the following:\n",
    "Runtime -> Change runtime type -> Select GPU -> Save\n"
   ],
   "metadata": {
    "collapsed": false
   }
  },
  {
   "cell_type": "code",
   "execution_count": 1,
   "outputs": [
    {
     "name": "stdout",
     "output_type": "stream",
     "text": [
      "Import PyNNCML From Code\n"
     ]
    }
   ],
   "source": [
    "import sys\n",
    "import os\n",
    "\n",
    "if os.path.exists('../../pynncml'):\n",
    "    print(\"Import PyNNCML From Code\")\n",
    "    sys.path.append('../../')  # This line is need to import pynncml\n",
    "else:\n",
    "    print(\"Install PyNNCML From pip\")\n",
    "    !pip install pynncml\n",
    "\n",
    "import pynncml as pnc\n",
    "import torch\n",
    "import math\n",
    "from matplotlib import pyplot as plt\n",
    "import wandb\n",
    "import random\n",
    "import numpy as np\n",
    "from tqdm import tqdm\n",
    "\n",
    "np.random.seed(0)\n",
    "torch.manual_seed(0)\n",
    "random.seed(0)\n",
    "\n"
   ],
   "metadata": {
    "collapsed": false,
    "ExecuteTime": {
     "end_time": "2023-11-22T06:33:46.753818700Z",
     "start_time": "2023-11-22T06:33:43.773340Z"
    }
   }
  },
  {
   "cell_type": "code",
   "execution_count": 2,
   "outputs": [],
   "source": [
    "batch_size = 128\n",
    "window_size = 32\n",
    "lr = 1e-4\n",
    "\n",
    "# xy_min = [1.29e6, 0.565e6]  # Link Region\n",
    "# xy_max = [1.34e6, 0.5875e6]\n",
    "\n",
    "xy_min = None\n",
    "xy_max = None\n",
    "time_slice = slice(\"2015-06-01\", \"2015-06-14\")  # Time Interval\n",
    "device = torch.device(\"cuda:0\" if torch.cuda.is_available() else \"cpu\")\n"
   ],
   "metadata": {
    "collapsed": false,
    "ExecuteTime": {
     "end_time": "2023-11-22T06:33:46.785353600Z",
     "start_time": "2023-11-22T06:33:46.754817800Z"
    }
   }
  },
  {
   "cell_type": "markdown",
   "source": [
    "# Building Training and Validation datasets"
   ],
   "metadata": {
    "collapsed": false
   }
  },
  {
   "cell_type": "code",
   "execution_count": 3,
   "outputs": [
    {
     "name": "stdout",
     "output_type": "stream",
     "text": [
      "File already exists at desired location ./data/OpenMRG.zip\n",
      "Not downloading!\n"
     ]
    },
    {
     "name": "stderr",
     "output_type": "stream",
     "text": [
      "100%|██████████| 728/728 [00:14<00:00, 50.75it/s] \n"
     ]
    },
    {
     "data": {
      "text/plain": "<Figure size 640x480 with 1 Axes>",
      "image/png": "[encoded data removed]"
     },
     "metadata": {},
     "output_type": "display_data"
    }
   ],
   "source": [
    "dataset_base = pnc.datasets.loader_open_mrg_dataset(xy_min=xy_min, xy_max=xy_max, time_slice=time_slice)\n",
    "dataset = pnc.datasets.linkdataset2subsequent(dataset_base)\n",
    "dataset_base.link_set.plot_links()\n",
    "plt.grid()\n",
    "plt.tick_params(left=False, right=False, labelleft=False, labelbottom=False, bottom=False)\n",
    "plt.show()\n",
    "\n",
    "training_dataset, validation_dataset = torch.utils.data.random_split(dataset, [0.8, 0.2])\n",
    "data_loader_all = torch.utils.data.DataLoader(dataset_base, batch_size)\n",
    "data_loader = torch.utils.data.DataLoader(training_dataset, batch_size)\n",
    "val_loader = torch.utils.data.DataLoader(validation_dataset, batch_size)\n"
   ],
   "metadata": {
    "collapsed": false,
    "ExecuteTime": {
     "end_time": "2023-11-22T06:34:08.802669300Z",
     "start_time": "2023-11-22T06:33:46.786354300Z"
    }
   }
  },
  {
   "cell_type": "markdown",
   "source": [
    "# Prior"
   ],
   "metadata": {
    "collapsed": false
   }
  },
  {
   "cell_type": "code",
   "execution_count": 4,
   "outputs": [],
   "source": [],
   "metadata": {
    "collapsed": false,
    "ExecuteTime": {
     "end_time": "2023-11-22T06:34:08.833644Z",
     "start_time": "2023-11-22T06:34:08.803669500Z"
    }
   }
  },
  {
   "cell_type": "markdown",
   "source": [
    "# Neural Network"
   ],
   "metadata": {
    "collapsed": false
   }
  },
  {
   "cell_type": "markdown",
   "source": [
    "# Loss\n"
   ],
   "metadata": {
    "collapsed": false
   }
  },
  {
   "cell_type": "code",
   "execution_count": 5,
   "outputs": [],
   "source": [
    "loss_function = torch.nn.MSELoss()"
   ],
   "metadata": {
    "collapsed": false,
    "ExecuteTime": {
     "end_time": "2023-11-22T06:34:08.834643900Z",
     "start_time": "2023-11-22T06:34:08.819000100Z"
    }
   }
  },
  {
   "cell_type": "markdown",
   "source": [
    "# Training Loop"
   ],
   "metadata": {
    "collapsed": false
   }
  },
  {
   "cell_type": "code",
   "execution_count": 6,
   "outputs": [
    {
     "name": "stderr",
     "output_type": "stream",
     "text": [
      "\u001B[34m\u001B[1mwandb\u001B[0m: Currently logged in as: \u001B[33mhvh\u001B[0m. Use \u001B[1m`wandb login --relogin`\u001B[0m to force relogin\n"
     ]
    },
    {
     "data": {
      "text/plain": "<IPython.core.display.HTML object>",
      "text/html": "wandb version 0.16.0 is available!  To upgrade, please run:\n $ pip install wandb --upgrade"
     },
     "metadata": {},
     "output_type": "display_data"
    },
    {
     "data": {
      "text/plain": "<IPython.core.display.HTML object>",
      "text/html": "Tracking run with wandb version 0.15.4"
     },
     "metadata": {},
     "output_type": "display_data"
    },
    {
     "data": {
      "text/plain": "<IPython.core.display.HTML object>",
      "text/html": "Run data is saved locally in <code>C:\\Work\\repos\\PyNNcml\\examples\\rain_score\\wandb\\run-20231122_083411-yju51bz6</code>"
     },
     "metadata": {},
     "output_type": "display_data"
    },
    {
     "data": {
      "text/plain": "<IPython.core.display.HTML object>",
      "text/html": "Syncing run <strong><a href='https://wandb.ai/hvh/rain_former/runs/yju51bz6' target=\"_blank\">ethereal-smoke-11</a></strong> to <a href='https://wandb.ai/hvh/rain_former' target=\"_blank\">Weights & Biases</a> (<a href='https://wandb.me/run' target=\"_blank\">docs</a>)<br/>"
     },
     "metadata": {},
     "output_type": "display_data"
    },
    {
     "data": {
      "text/plain": "<IPython.core.display.HTML object>",
      "text/html": " View project at <a href='https://wandb.ai/hvh/rain_former' target=\"_blank\">https://wandb.ai/hvh/rain_former</a>"
     },
     "metadata": {},
     "output_type": "display_data"
    },
    {
     "data": {
      "text/plain": "<IPython.core.display.HTML object>",
      "text/html": " View run at <a href='https://wandb.ai/hvh/rain_former/runs/yju51bz6' target=\"_blank\">https://wandb.ai/hvh/rain_former/runs/yju51bz6</a>"
     },
     "metadata": {},
     "output_type": "display_data"
    },
    {
     "name": "stdout",
     "output_type": "stream",
     "text": [
      "Start Training\n"
     ]
    },
    {
     "name": "stderr",
     "output_type": "stream",
     "text": [
      "description:   0%|          | 0/4000 [00:00<?, ?it/s]C:\\Users\\haiha\\.conda\\envs\\Research\\lib\\site-packages\\torch\\nn\\modules\\loss.py:536: UserWarning: Using a target size (torch.Size([128, 1])) that is different to the input size (torch.Size([128])). This will likely lead to incorrect results due to broadcasting. Please ensure they have the same size.\n",
      "  return F.mse_loss(input, target, reduction=self.reduction)\n",
      "C:\\Users\\haiha\\.conda\\envs\\Research\\lib\\site-packages\\torch\\nn\\modules\\loss.py:536: UserWarning: Using a target size (torch.Size([56, 1])) that is different to the input size (torch.Size([56])). This will likely lead to incorrect results due to broadcasting. Please ensure they have the same size.\n",
      "  return F.mse_loss(input, target, reduction=self.reduction)\n",
      "Loss Value 1.64412024974823:   1%|          | 49/4000 [01:00<1:19:55,  1.21s/it]  C:\\Users\\haiha\\.conda\\envs\\Research\\lib\\site-packages\\torch\\optim\\lr_scheduler.py:152: UserWarning: The epoch parameter in `scheduler.step()` was not necessary and is being deprecated where possible. Please use `scheduler.step()` to step the scheduler. During the deprecation, if epoch is different from None, the closed form is used instead of the new chainable form, where available. Please open an issue if you are unable to replicate your use case: https://github.com/pytorch/pytorch/issues/new/choose.\n",
      "  warnings.warn(EPOCH_DEPRECATION_WARNING, UserWarning)\n",
      "Loss Value 1.6302460543314616: 100%|██████████| 4000/4000 [1:15:00<00:00,  1.13s/it]\n"
     ]
    },
    {
     "data": {
      "text/plain": "<IPython.core.display.HTML object>",
      "text/html": "Waiting for W&B process to finish... <strong style=\"color:green\">(success).</strong>"
     },
     "metadata": {},
     "output_type": "display_data"
    },
    {
     "data": {
      "text/plain": "VBox(children=(Label(value='0.001 MB of 0.001 MB uploaded (0.000 MB deduped)\\r'), FloatProgress(value=1.0, max…",
      "application/vnd.jupyter.widget-view+json": {
       "version_major": 2,
       "version_minor": 0,
       "model_id": "f408859a6d644e80bad98b3287a291e3"
      }
     },
     "metadata": {},
     "output_type": "display_data"
    },
    {
     "data": {
      "text/plain": "<IPython.core.display.HTML object>",
      "text/html": "<style>\n    table.wandb td:nth-child(1) { padding: 0 10px; text-align: left ; width: auto;} td:nth-child(2) {text-align: left ; width: 100%}\n    .wandb-row { display: flex; flex-direction: row; flex-wrap: wrap; justify-content: flex-start; width: 100% }\n    .wandb-col { display: flex; flex-direction: column; flex-basis: 100%; flex: 1; padding: 10px; }\n    </style>\n<div class=\"wandb-row\"><div class=\"wandb-col\"><h3>Run history:</h3><br/><table class=\"wandb\"><tr><td>loss</td><td>█▂▁▁▁▁▁▁▁▁▁▁▁▁▁▁▁▁▁▁▁▁▁▁▁▁▁▁▁▁▁▁▁▁▁▁▁▁▁▁</td></tr></table><br/></div><div class=\"wandb-col\"><h3>Run summary:</h3><br/><table class=\"wandb\"><tr><td>loss</td><td>1.63025</td></tr></table><br/></div></div>"
     },
     "metadata": {},
     "output_type": "display_data"
    },
    {
     "data": {
      "text/plain": "<IPython.core.display.HTML object>",
      "text/html": " View run <strong style=\"color:#cdcd00\">ethereal-smoke-11</strong> at: <a href='https://wandb.ai/hvh/rain_former/runs/yju51bz6' target=\"_blank\">https://wandb.ai/hvh/rain_former/runs/yju51bz6</a><br/>Synced 5 W&B file(s), 0 media file(s), 2 artifact file(s) and 0 other file(s)"
     },
     "metadata": {},
     "output_type": "display_data"
    },
    {
     "data": {
      "text/plain": "<IPython.core.display.HTML object>",
      "text/html": "Find logs at: <code>.\\wandb\\run-20231122_083411-yju51bz6\\logs</code>"
     },
     "metadata": {},
     "output_type": "display_data"
    }
   ],
   "source": [
    "from examples.rain_score.score.ema import ModelEma\n",
    "from examples.rain_score.conformer.conditional_encoder import RainScoreConformer\n",
    "from examples.rain_score.conformer.encoder import RainConformer\n",
    "\n",
    "model = RainConformer().to(device)\n",
    "ema = ModelEma(model)\n",
    "lr = 1e-5\n",
    "warmup_epochs = 50\n",
    "n_epochs = 4000\n",
    "div_factor = 100\n",
    "wandb.init(project=\"rain_former\")\n",
    "opt = torch.optim.Adam(model.parameters(), lr=lr)\n",
    "scheduler_cosin = torch.optim.lr_scheduler.CosineAnnealingLR(opt, n_epochs - warmup_epochs,\n",
    "                                                             eta_min=lr / div_factor)\n",
    "scheduler_warmup = torch.optim.lr_scheduler.LinearLR(opt, 1 / div_factor, 1, total_iters=warmup_epochs)\n",
    "scheduler = torch.optim.lr_scheduler.SequentialLR(opt, [scheduler_warmup, scheduler_cosin], [warmup_epochs])\n",
    "\n",
    "total_step = n_epochs * len(data_loader)\n",
    "ra = pnc.analysis.ResultsAccumulator()\n",
    "am = pnc.analysis.AverageMetric()\n",
    "model.train()\n",
    "print(\"Start Training\")\n",
    "pbar = tqdm(range(n_epochs), desc='description')\n",
    "for epoch in pbar:\n",
    "    am.clear()\n",
    "\n",
    "    for rain_rate, data, metadata in data_loader:\n",
    "        opt.zero_grad()\n",
    "        model.train()\n",
    "        data = data.to(device)\n",
    "        metadata = metadata.to(device)\n",
    "        rain_rate = rain_rate.reshape([-1, 1]).float().to(device)\n",
    "\n",
    "        rain_hat = model(data, metadata.to(device))\n",
    "        loss = loss_function(rain_hat.squeeze(dim=-1), rain_rate)\n",
    "        loss.backward()\n",
    "        ema.update(model)\n",
    "        opt.step()\n",
    "\n",
    "        am.add_results(loss=loss.item())\n",
    "    scheduler.step()\n",
    "\n",
    "    loss_avg = am.get_results(\"loss\")\n",
    "    pbar.set_description(f\"Loss Value {loss_avg}\")\n",
    "    res = {\"loss\": am.get_results(\"loss\")}\n",
    "    wandb.log(res)\n",
    "    ra.add_results(**res)\n",
    "wandb.finish()"
   ],
   "metadata": {
    "collapsed": false,
    "ExecuteTime": {
     "end_time": "2023-11-22T07:49:19.350191100Z",
     "start_time": "2023-11-22T06:34:08.837644Z"
    }
   }
  },
  {
   "cell_type": "code",
   "execution_count": 7,
   "outputs": [
    {
     "name": "stdout",
     "output_type": "stream",
     "text": [
      "1.0704613668628498 0.019381228142311004\n"
     ]
    }
   ],
   "source": [
    "mse = 0\n",
    "bias = 0\n",
    "count = 0\n",
    "for rain_rate, data, metadata in val_loader:\n",
    "    data = data.to(device)\n",
    "    metadata = metadata.to(device)\n",
    "    rain_rate = rain_rate.reshape([-1, 1]).float().to(device)\n",
    "    rain_hat = model(data, metadata)\n",
    "    delta = rain_rate - rain_hat\n",
    "    mse += torch.mean(delta ** 2).item()\n",
    "    bias += torch.mean(delta)\n",
    "    count += 1\n",
    "print(math.sqrt(mse / count), bias / count)"
   ],
   "metadata": {
    "collapsed": false,
    "ExecuteTime": {
     "end_time": "2023-11-22T07:49:19.580872400Z",
     "start_time": "2023-11-22T07:49:19.347191200Z"
    }
   }
  },
  {
   "cell_type": "code",
   "execution_count": 16,
   "outputs": [
    {
     "name": "stdout",
     "output_type": "stream",
     "text": [
      "-------------------------------------------------- Results Summery --------------------------------------------------\n",
      "+--------------+-------------+------------+-----------+\n",
      "|    Metric    |    0<r<4    |   4<r<8    |  8<r<inf  |\n",
      "+--------------+-------------+------------+-----------+\n",
      "|     RMSE     |  0.94458026 | 3.9791288  |  9.792482 |\n",
      "|     BIAS     |  -0.1669704 | 3.8634274  |  9.533251 |\n",
      "|    NRMSE     |  0.8827449  | 0.77994716 |  0.908795 |\n",
      "|    NBIAS     | -0.15603997 | 0.7572686  | 0.8847369 |\n",
      "| Total Metric |    Value    |     -      |     -     |\n",
      "|     RMSE     |  1.3317567  |     -      |     -     |\n",
      "|     BIAS     | 0.023969883 |     -      |     -     |\n",
      "|    NRMSE     |  1.0560629  |     -      |     -     |\n",
      "|    NBIAS     | 0.019007755 |     -      |     -     |\n",
      "+--------------+-------------+------------+-----------+\n",
      "------------------------------------------------------------------------------------------------------------------------------------------------------\n"
     ]
    },
    {
     "data": {
      "text/plain": "<Figure size 640x480 with 1 Axes>",
      "image/png": "[encoded data removed]"
     },
     "metadata": {},
     "output_type": "display_data"
    }
   ],
   "source": [
    "print(math.sqrt(mse / count), bias / count)"
   ],
   "metadata": {
    "collapsed": false,
    "ExecuteTime": {
     "end_time": "2023-11-22T08:41:36.545716800Z",
     "start_time": "2023-11-22T08:41:36.473610800Z"
    }
   }
  }
 ],
 "metadata": {
  "kernelspec": {
   "display_name": "Python 3 (ipykernel)",
   "language": "python",
   "name": "python3"
  },
  "language_info": {
   "codemirror_mode": {
    "name": "ipython",
    "version": 3
   },
   "file_extension": ".py",
   "mimetype": "text/x-python",
   "name": "python",
   "nbconvert_exporter": "python",
   "pygments_lexer": "ipython3",
   "version": "3.9.16"
  }
 },
 "nbformat": 4,
 "nbformat_minor": 5
}
